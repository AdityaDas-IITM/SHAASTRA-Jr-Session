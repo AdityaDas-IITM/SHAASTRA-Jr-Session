{
 "cells": [
  {
   "cell_type": "markdown",
   "metadata": {},
   "source": [
    "<div align=\"center\">\n",
    "    <h1>Reinforcement Learning</h1>\n",
    "</div>\n",
    "\n",
    "![teaser](assets/teaser.gif)"
   ]
  },
  {
   "cell_type": "markdown",
   "metadata": {},
   "source": [
    "## What is Reinforcement Learning\n",
    "\n",
    "Reinforcement Learning is a field in Machine Learning that deals with modelling an intelligent agent that can perform tasks in a dynamic environment. **Now what does this mean??**\n",
    "\n",
    "## Understanding some other terms\n",
    "\n",
    "- **Artificial Intelligence and Machine Learning**: Artificial Intelligence means getting a computer to mimic human behaviour in some way. While some people falsely consider AI a technology, the more accurate approach would be seeing it as a broad concept in which machines can deal with tasks in a way we would call intelligent or smart. **So is Artificial Intelligence and Machine learning the same?** Not really! Artificial Intelligence is a broader concept while machine learning is a very common application of AI. We should understand machine learning as a current application of AI that is focused on the development of computer programs that can access data and learn from it automatically, without human assistance or intervention. \n",
    "- **Supervised Learning**: In supervised learning, we train a model with data which is already labelled or in simpler words we have a dataset which contains information about what the actual output must look like. So once the model learns from this “Training data” it tries to predict the output for a new set of examples by establishing a relationship between the input and output.\n",
    "\n",
    "![supervised-learning](assets/supervised-learning.gif)"
   ]
  },
  {
   "cell_type": "markdown",
   "metadata": {},
   "source": [
    "Now lets say we want to train a model to play Mario. In a supervised setting, we would let a pro-player play the game and log his/her moves to build a dataset. Now all we need to do is train a model to imitate the actions of this player. But this has too main shortcomings:\n",
    "\n",
    "- It is quite a tedious task to build this dataset by logging a player's actions. \n",
    "- Since we are training a model to imitate the actions of another player, it can never be better than that human player. **So is there a way to train a model to play a game entirely by itself?** Yes there is and this is called **Reinforcement Learning**. "
   ]
  },
  {
   "cell_type": "markdown",
   "metadata": {},
   "source": [
    "## So how does it work??\n",
    "\n",
    "Lets first try to build some intuition before we go into the specifics. In our lives, we all have to perform actions to pursue our dream. As we keep progressing, we try out different paths and try to figure out which actions give us the most rewards. Ideally, we would learn from the feedback we receive for our actions and try to keep improving ourselves. \n",
    "\n",
    "**Lets introduce some terms here.** Our reality is an **environment** where we perform numerous **actions**. We receive positive or negative **rewards** for our actions taken based on the **state** we are in. Finally, we modify/strengthen our actions to receive maximum reward. \n",
    "\n",
    "![rl](assets/reinforcement-learning.png)\n",
    "\n",
    "Reinforcement Learning is also analogous to our lives. *It deals with solving a particular kind of problem where decision making is sequential, and the goal is long-term, such as game playing, robotics, resource management, or logistics.*\n",
    "\n",
    "There are various technicques to perform Reinforcement Learning and one of the simplest one is **Q Learning**"
   ]
  },
  {
   "cell_type": "markdown",
   "metadata": {},
   "source": [
    "### Q Learning\n",
    "\n",
    "Lets go back to building some intuition. I have this grid of 9 squares and we need an agent to go from location \"START\" to \"END\".\n",
    "\n",
    "![](assets/q-1.png)\n",
    "\n",
    "- Our states here correspond to different locations in this grid and we map them to some index numbers. For example: (0,0) - state 0, (0,1) - state 1, (0,2) - state 3, (1,0) - state 4 and so on.\n",
    "- The actions are basically movement (i.e) left, right, up and down. \n",
    "- The agent receives a reward based on how close we are to the finish point.\n",
    "\n",
    "Now what is the easiest way to do this given the above start and finish. We chalk out a trajectory for the agent to follow. \n",
    "\n",
    "![](assets/q-2.png)\n",
    "\n",
    "But what if we start somewhere else, like in the following case. The agent has no way to know which direction to go to. \n",
    "\n",
    "![](assets/q-3.png)\n",
    "\n",
    "This is because, in this programatical approach to solving this problem the agent has no way to remember which direction to proceed. **Here comes the bellman equation**\n",
    "\n",
    "$V(s) = R(s, a) + \\gamma*V(s')$\n",
    "\n",
    "```\n",
    "where \n",
    "- s is the state\n",
    "- a is the action\n",
    "- R is the reward function\n",
    "- V is the value of being in that particular state\n",
    "- gamma is the discount factor which essentially means how much of the future really matters to us\n",
    "``` \n",
    "\n",
    "![](assets/q-4.png)\n",
    "\n",
    "### Modelling some stochasticity\n",
    "\n",
    "Now its very possible that our agent while traversing through this environment does not perform the exact action it needs to. There is some change for malfunction meaning i tell it to go up and it goes down. So we must find some way to incorportate this factor onto the bellman equation. This is done by accounting for the expectation of such a random situation:\n",
    "\n",
    "$V(s) = R(s, a) + \\gamma*\\sum_{i=1}^n s'P(s,a,s')*V(s')$\n",
    "\n",
    "```\n",
    "where P(s,a,s') is the probability of the agent performing an action a from state s to move to state s'.\n",
    "```\n",
    "\n",
    "in simple words, lets consider the following probabilities to perform the actions. \n",
    "\n",
    "![](assets/q-5.png)\n",
    "\n",
    "now our value function becomes - $V(s) = R(s,a) + \\gamma*(0.7*V(going-up) + 0.1*V(going-left) + ....)$\n",
    "\n",
    "As of now we have rewarded the agent for going to the final destination. Ideally we need to provide a reward function for every state for it to asses the quality of its own actions. Next we will talk about Q values.\n",
    "\n",
    "### Q Values\n",
    "\n",
    "Instead of modelling the value of a state, its more easier to compute the quality of performing every action in a given state and say that the value of that state is equal to the maximum of all possible Q(s,a). So our bellman equation becomes:\n",
    "\n",
    "$V(s) = R(s, a) + \\gamma*\\sum_{i=1}^n P(s,a,s')*Q(s',a')$\n",
    "\n",
    "### Temporal Difference\n",
    "\n",
    "Now that we have defined our value function, lets see how to make the agent figure out on its own the value of being in each state rather than us defining it. Sounds fancy?, its pretty simple. Let's assume we know the value of Q(s,a) at some state a. Now if we perform an action and move to the next. Since our environment is dynamic, it will receive some reward for going to this next state which may not have been seen before. So we need to update the Q values of state and action using the observation we just received. The difference between this and the already known value is know as temporal difference.\n",
    "\n",
    "$Q_{new}(s,a) = R(s, a) + \\gamma*\\sum_{i=1}^n P(s,a,s')*Q(s',a')$ and  $TD = Q_{new}(s,a) - Q(s,a)$\n",
    "\n",
    "Since each time our environment might change drastically, we do not want to update the q values suddenly to this new one. We need the agent to slowly figure out what works and what does not. Hence we add one last term to update the Q values $\\alpha$ which is nothing but the learning rate.\n",
    "\n",
    "$Q_{t}(s,a) = Q_{t-1}(s,a) + \\alpha*TD_{t}(a,s)$\n",
    "\n",
    "**Enough theory lets try implementing this to play the snake game**"
   ]
  },
  {
   "cell_type": "markdown",
   "metadata": {},
   "source": [
    "## First things first, we need to build our environment"
   ]
  },
  {
   "cell_type": "code",
   "execution_count": 193,
   "metadata": {},
   "outputs": [],
   "source": [
    "import numpy as np\n",
    "import random\n",
    "\n",
    "actions = {\"up\":0, \"left\":1, \"down\":2, \"right\":3}\n",
    "\n",
    "class SnakeEnv:\n",
    "    def __init__(self, board_size):\n",
    "        self.h, self.w = board_size\n",
    "        self.reset()\n",
    "    def reset(self):\n",
    "        self.board = np.zeros((self.h, self.w, 3), dtype=np.int32)\n",
    "        self.snake_body = []\n",
    "        self.head_x, self.head_y = random.randint(0, self.w-1), random.randint(0, self.h-1)\n",
    "        self.snake_body.append([self.head_x, self.head_y])\n",
    "        self._spawnfood()\n",
    "        self.score = 0\n",
    "        self.frames = []\n",
    "    def _spawnfood(self):\n",
    "        self.food_pos = [random.randint(0, self.w-1), random.randint(0, self.h-1)]\n",
    "        while self.food_pos in self.snake_body:\n",
    "            self.food_pos = [random.randint(0, self.w-1), random.randint(0, self.h-1)]\n",
    "    def move(self, action):\n",
    "        x, y = self.head_x, self.head_y\n",
    "        if actions[action] == 0:\n",
    "            y -= 1\n",
    "        elif actions[action] == 1:\n",
    "            x -= 1\n",
    "        elif actions[action] == 2:\n",
    "            y += 1\n",
    "        elif actions[action] == 3:\n",
    "            x += 1\n",
    "        else:\n",
    "            raise Exception(\"Invalid action\")\n",
    "        \n",
    "        self.snake_body.insert(0, [x,y])\n",
    "        self.head_x, self.head_y = x, y\n",
    "        if x == self.food_pos[0] and y == self.food_pos[1]:\n",
    "            self.score += 1\n",
    "            self._spawnfood()\n",
    "        else:\n",
    "            self.snake_body.pop()\n",
    "            \n",
    "        if self.head_x < 0 or self.head_x >= self.w or self.head_y < 0 or self.head_y >= self.h:\n",
    "            print(\"out of bounds\")\n",
    "            return False\n",
    "        for pos in self.snake_body[1:]:\n",
    "            if pos[0] == self.head_x and pos[1] == self.head_y:\n",
    "                print(\"bit yourself\")\n",
    "                return False\n",
    "        \n",
    "        board = np.copy(self.board)\n",
    "        for pos in self.snake_body:\n",
    "            board[pos[1],pos[0]] = [0,255,0]\n",
    "        board[self.food_pos[1], self.food_pos[0]] = [255,0,0]\n",
    "        self.frames.append(board)\n",
    "        \n",
    "        \n",
    "        return True    "
   ]
  },
  {
   "cell_type": "code",
   "execution_count": 208,
   "metadata": {},
   "outputs": [],
   "source": [
    "from matplotlib import animation\n",
    "import matplotlib.pyplot as plt\n",
    "\n",
    "def anim_frames(frames):\n",
    "    print(len(frames))\n",
    "    h, w, _ = frames[0].shape\n",
    "    fig, ax = plt.subplots()\n",
    "    im = ax.imshow((np.ones((h, w, 3))))\n",
    "    def update(i):\n",
    "        im.set_data(frames[i])\n",
    "        return (im,)\n",
    "    anim = animation.FuncAnimation(fig, update,frames=len(frames), blit=True)\n",
    "    return anim"
   ]
  },
  {
   "cell_type": "code",
   "execution_count": 204,
   "metadata": {},
   "outputs": [
    {
     "data": {
      "image/png": "[encoded data removed]",
      "text/plain": [
       "<Figure size 432x288 with 1 Axes>"
      ]
     },
     "metadata": {
      "needs_background": "light"
     },
     "output_type": "display_data"
    }
   ],
   "source": [
    "# test_game = SnakeEnv((10,10))\n",
    "action = \"right\"\n",
    "alive = test_game.move(action)\n",
    "plt.imshow(test_game.frames[-1])\n",
    "plt.show()"
   ]
  },
  {
   "cell_type": "code",
   "execution_count": 296,
   "metadata": {},
   "outputs": [
    {
     "name": "stdout",
     "output_type": "stream",
     "text": [
      "8\n"
     ]
    },
    {
     "data": {
      "image/png": "[encoded data removed]",
      "text/plain": [
       "<Figure size 432x288 with 1 Axes>"
      ]
     },
     "metadata": {
      "needs_background": "light"
     },
     "output_type": "display_data"
    },
    {
     "data": {
      "text/html": [
       "\n",
       "<video width=400 controls>\n",
       "      <source src=\"data:video/mp4;base64,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\" type=\"video/mp4\">\n",
       "</video>\n"
      ],
      "text/plain": [
       "<IPython.core.display.HTML object>"
      ]
     },
     "execution_count": 296,
     "metadata": {},
     "output_type": "execute_result"
    }
   ],
   "source": [
    "anim = anim_frames(test_game.frames)\n",
    "anim.save('out.mp4', fps=5, extra_args=['-vcodec', 'libx264'])\n",
    "plt.show()\n",
    "from IPython.display import HTML\n",
    "from base64 import b64encode\n",
    "mp4 = open('out.mp4','rb').read()\n",
    "data_url = \"data:video/mp4;base64,\" + b64encode(mp4).decode()\n",
    "HTML(\"\"\"\n",
    "<video width=400 controls>\n",
    "      <source src=\"%s\" type=\"video/mp4\">\n",
    "</video>\n",
    "\"\"\" % data_url)"
   ]
  },
  {
   "cell_type": "markdown",
   "metadata": {},
   "source": [
    "## Back to Q Learning"
   ]
  },
  {
   "cell_type": "code",
   "execution_count": 292,
   "metadata": {},
   "outputs": [],
   "source": [
    "import numpy as np\n",
    "import random\n",
    "\n",
    "actions = {\"up\":0, \"left\":1, \"down\":2, \"right\":3}\n",
    "\n",
    "class SnakeEnv:\n",
    "    def __init__(self, board_size):\n",
    "        self.h, self.w = board_size\n",
    "        self.reset()\n",
    "    \n",
    "    def reset(self):\n",
    "        self.board = np.zeros((self.h, self.w, 3), dtype=np.int32)\n",
    "        self.snake_body = []\n",
    "        self.head_x, self.head_y = random.randint(0, self.w-1), random.randint(0, self.h-1)\n",
    "        self.snake_body.append([self.head_x, self.head_y])\n",
    "        self._spawnfood()\n",
    "        self.score = 0\n",
    "        self.frames = []\n",
    "        food_state = self._food_direction()\n",
    "        boundary_state = self._check_boundary()\n",
    "        self.state = food_state + boundary_state\n",
    "        self._draw_board()\n",
    "        return self.state\n",
    "    \n",
    "    def _check_boundary(self):\n",
    "        boundary_state = [0,0,0,0]\n",
    "        if self.head_y == 0:\n",
    "            boundary_state[0] = 1\n",
    "        if self.head_x == 0:\n",
    "            boundary_state[1] = 1\n",
    "        if self.head_y == self.h:\n",
    "            boundary_state[2] = 1\n",
    "        if self.head_x == self.w:\n",
    "            boundary_state[3] = 1\n",
    "        \n",
    "        for pos in self.snake_body[1:]:\n",
    "            if pos[1] == self.head_y - 1 and pos[0] == self.head_x:\n",
    "                boundary_state[0] = 1\n",
    "            if pos[0] == self.head_x - 1 and pos[1] == self.head_y:\n",
    "                boundary_state[1] = 1\n",
    "            if pos[1] == self.head_y + 1 and pos[0] == self.head_x:\n",
    "                boundary_state[2] = 1\n",
    "            if pos[0] == self.head_x + 1 and pos[1] == self.head_y:\n",
    "                boundary_state[3] = 1\n",
    "    \n",
    "        return boundary_state\n",
    "    \n",
    "    def _spawnfood(self):\n",
    "        self.food_pos = [random.randint(0, self.w-1), random.randint(0, self.h-1)]\n",
    "        while self.food_pos in self.snake_body:\n",
    "            self.food_pos = [random.randint(0, self.w-1), random.randint(0, self.h-1)]\n",
    "    \n",
    "    def _food_direction(self):\n",
    "        rel_direction = [0,0,0,0]\n",
    "        if self.food_pos[1] - self.head_y < 0:\n",
    "            rel_direction[0] = 1\n",
    "        if self.food_pos[0] - self.head_x < 0:\n",
    "            rel_direction[1] = 1\n",
    "        if self.food_pos[1] - self.head_y > 0:\n",
    "            rel_direction[2] = 1\n",
    "        if self.food_pos[0] - self.head_x > 0:\n",
    "            rel_direction[3] = 1\n",
    "        return rel_direction\n",
    "    \n",
    "    def _draw_board(self):\n",
    "        board = np.copy(self.board)\n",
    "        for pos in self.snake_body:\n",
    "            board[pos[1],pos[0]] = [0,255,0]\n",
    "        board[self.food_pos[1], self.food_pos[0]] = [255,0,0]\n",
    "        self.frames.append(board)\n",
    "    \n",
    "    def step(self, action):\n",
    "        x, y = self.head_x, self.head_y\n",
    "        if action == 0:\n",
    "            y -= 1\n",
    "        elif action == 1:\n",
    "            x -= 1\n",
    "        elif action == 2:\n",
    "            y += 1\n",
    "        elif action == 3:\n",
    "            x += 1\n",
    "        else:\n",
    "            raise Exception(\"Invalid action\")\n",
    "        \n",
    "        done = False\n",
    "        if x < 0 or x >= self.w or y < 0 or y >= self.h:\n",
    "            done = True\n",
    "        for pos in self.snake_body[1:]:\n",
    "            if pos[0] == x and pos[1] == y:\n",
    "                done = True\n",
    "                break\n",
    "        \n",
    "        if done:\n",
    "            reward = -30\n",
    "        else:    \n",
    "            food_state = self._food_direction()\n",
    "            if food_state[action] == 1:\n",
    "                reward = 10\n",
    "            else: \n",
    "                reward = -10\n",
    "            self.snake_body.insert(0, [x,y])\n",
    "            self.head_x, self.head_y = x, y\n",
    "            if x == self.food_pos[0] and y == self.food_pos[1]:\n",
    "                self.score += 1\n",
    "                self._spawnfood()\n",
    "                reward = 50\n",
    "            else:\n",
    "                self.snake_body.pop()\n",
    "            food_state = self._food_direction()\n",
    "            boundary_state = self._check_boundary()\n",
    "            self.state = food_state + boundary_state\n",
    "                \n",
    "        self._draw_board()\n",
    "        \n",
    "        return self.state, reward, done"
   ]
  },
  {
   "cell_type": "code",
   "execution_count": 301,
   "metadata": {
    "scrolled": true
   },
   "outputs": [
    {
     "name": "stdout",
     "output_type": "stream",
     "text": [
      "best:  1\n",
      "best:  2\n",
      "best:  3\n",
      "best:  5\n",
      "best:  7\n",
      "best:  8\n",
      "best:  9\n",
      "best:  10\n",
      "best:  12\n",
      "best:  15\n"
     ]
    }
   ],
   "source": [
    "num_states, num_actions = 2**8, 4\n",
    "q_table = np.random.rand(num_states, num_actions)\n",
    "num_episodes = 10000\n",
    "gamma = 0.8\n",
    "epsilon = 0.2\n",
    "snake_game = SnakeEnv((16,16))\n",
    "best_q_table = None\n",
    "def calc_state_num(state):\n",
    "    state_indx = 0\n",
    "    for i in range(8):\n",
    "        state_indx += 2**i*state[i]\n",
    "    return state_indx\n",
    "\n",
    "best = 0\n",
    "lr = 0.1\n",
    "\n",
    "for _ in range(num_episodes):\n",
    "    state = snake_game.reset()\n",
    "    state = calc_state_num(state)\n",
    "    done = False\n",
    "    while not done:\n",
    "        if random.uniform(0, 1) < epsilon:\n",
    "            action = random.randint(0, num_actions-1)\n",
    "        else:\n",
    "            action = np.argmax(q_table[state,:])\n",
    "        next_state, reward, done = snake_game.step(action)\n",
    "        next_state = calc_state_num(next_state)\n",
    "        q_table[state, action] = (1-lr)*q_table[state, action] + lr*(reward + gamma*np.max(q_table[next_state, :]))\n",
    "        state = next_state\n",
    "    if snake_game.score > best:\n",
    "        print(\"best: \", snake_game.score)\n",
    "        best = snake_game.score\n",
    "        best_q_table = q_table\n",
    "# print(snake_game.score)\n",
    "        "
   ]
  },
  {
   "cell_type": "code",
   "execution_count": 302,
   "metadata": {},
   "outputs": [
    {
     "name": "stdout",
     "output_type": "stream",
     "text": [
      "211\n"
     ]
    },
    {
     "data": {
      "image/png": "[encoded data removed]",
      "text/plain": [
       "<Figure size 432x288 with 1 Axes>"
      ]
     },
     "metadata": {
      "needs_background": "light"
     },
     "output_type": "display_data"
    },
    {
     "data": {
      "text/html": [
       "\n",
       "<video width=400 controls>\n",
       "      <source src=\"data:video/mp4;base64,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\" type=\"video/mp4\">\n",
       "</video>\n"
      ],
      "text/plain": [
       "<IPython.core.display.HTML object>"
      ]
     },
     "execution_count": 302,
     "metadata": {},
     "output_type": "execute_result"
    }
   ],
   "source": [
    "state = snake_game.reset()\n",
    "state = calc_state_num(state)\n",
    "done = False\n",
    "while not done:\n",
    "    action = np.argmax(q_table[state,:])\n",
    "    next_state, reward, done = snake_game.step(action)\n",
    "    next_state = calc_state_num(next_state)\n",
    "    q_table[state, action] = reward + gamma*np.max(q_table[next_state, :])\n",
    "    state = next_state\n",
    "\n",
    "anim = anim_frames(snake_game.frames)\n",
    "anim.save('out.mp4', fps=10, extra_args=['-vcodec', 'libx264'])\n",
    "plt.show()\n",
    "from IPython.display import HTML\n",
    "from base64 import b64encode\n",
    "mp4 = open('out.mp4','rb').read()\n",
    "data_url = \"data:video/mp4;base64,\" + b64encode(mp4).decode()\n",
    "HTML(\"\"\"\n",
    "<video width=400 controls>\n",
    "      <source src=\"%s\" type=\"video/mp4\">\n",
    "</video>\n",
    "\"\"\" % data_url)"
   ]
  },
  {
   "cell_type": "code",
   "execution_count": null,
   "metadata": {},
   "outputs": [],
   "source": []
  }
 ],
 "metadata": {
  "kernelspec": {
   "display_name": "Python 3",
   "language": "python",
   "name": "python3"
  },
  "language_info": {
   "codemirror_mode": {
    "name": "ipython",
    "version": 3
   },
   "file_extension": ".py",
   "mimetype": "text/x-python",
   "name": "python",
   "nbconvert_exporter": "python",
   "pygments_lexer": "ipython3",
   "version": "3.8.5"
  }
 },
 "nbformat": 4,
 "nbformat_minor": 4
}
